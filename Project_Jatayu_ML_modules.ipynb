{
  "nbformat": 4,
  "nbformat_minor": 0,
  "metadata": {
    "colab": {
      "name": "Project-Jatayu-ML-modules.ipynb",
      "provenance": [],
      "collapsed_sections": [],
      "machine_shape": "hm"
    },
    "kernelspec": {
      "name": "python3",
      "display_name": "Python 3"
    },
    "accelerator": "GPU"
  },
  "cells": [
    {
      "cell_type": "markdown",
      "metadata": {
        "id": "9k_yxayOFRyu"
      },
      "source": [
        "Connect to Google Drive account"
      ]
    },
    {
      "cell_type": "code",
      "metadata": {
        "id": "tAb77yZ9fzMG",
        "colab": {
          "base_uri": "https://localhost:8080/"
        },
        "outputId": "8cfc0a20-ce8a-49d5-de73-145069dd2662"
      },
      "source": [
        "from google.colab import drive\n",
        "drive.mount('/content/drive')\n",
        "%cd drive/My\\ Drive/\n"
      ],
      "execution_count": 1,
      "outputs": [
        {
          "output_type": "stream",
          "text": [
            "Mounted at /content/drive\n",
            "/content/drive/My Drive\n"
          ],
          "name": "stdout"
        }
      ]
    },
    {
      "cell_type": "markdown",
      "metadata": {
        "id": "W24eLpdWGYpb"
      },
      "source": [
        "# Face Recognition layer"
      ]
    },
    {
      "cell_type": "markdown",
      "metadata": {
        "id": "9JISuEQVTGnY"
      },
      "source": [
        "Dataset: https://www.kaggle.com/havingfun/100-bollywood-celebrity-faces"
      ]
    },
    {
      "cell_type": "markdown",
      "metadata": {
        "id": "RAhRHhkPFN9i"
      },
      "source": [
        "Install Facenet model package to generate face embeddings"
      ]
    },
    {
      "cell_type": "code",
      "metadata": {
        "id": "pafL7Li0jyXW"
      },
      "source": [
        "!pip install keras-facenet\n"
      ],
      "execution_count": null,
      "outputs": []
    },
    {
      "cell_type": "markdown",
      "metadata": {
        "id": "_7ctnblKFWeJ"
      },
      "source": [
        "Load Images from directory and store them in a numpy file "
      ]
    },
    {
      "cell_type": "code",
      "metadata": {
        "id": "-uea5JmIp_Qx"
      },
      "source": [
        "import os\n",
        "dataset=[]\n",
        "labels=[]\n",
        "\n",
        "images_directories=['bollywood_celeb_faces_0']\n",
        "for i in images_directories:\n",
        "  for j in  os.listdir(i):\n",
        "    for k in os.listdir(i+'/'+j):\n",
        "      if '.jpg' in k:\n",
        "        dataset.append(i+'/'+j+'/'+k)\n",
        "        labels.append(j)\n"
      ],
      "execution_count": null,
      "outputs": []
    },
    {
      "cell_type": "code",
      "metadata": {
        "id": "bp8y2cObqBpv"
      },
      "source": [
        "import numpy as np\n",
        "from PIL import Image\n",
        "loaded_images=[]\n",
        "count=0\n",
        "for i in dataset[:4000]:\n",
        "  loaded_images.append(np.asarray(Image.open(i)))\n",
        "  print(count)\n",
        "  count+=1\n",
        "print('done')\n",
        "loaded_images=np.array(loaded_images)\n",
        "# np.save('face_dataset_0_1',loaded_images)\n"
      ],
      "execution_count": null,
      "outputs": []
    },
    {
      "cell_type": "code",
      "metadata": {
        "id": "acdh7CkJG1yi"
      },
      "source": [
        "print('Classes: ',set(labels))"
      ],
      "execution_count": null,
      "outputs": []
    },
    {
      "cell_type": "markdown",
      "metadata": {
        "id": "2XYi4AMyFbpR"
      },
      "source": [
        "Load Facenet"
      ]
    },
    {
      "cell_type": "code",
      "metadata": {
        "id": "g6nm_cdw130X"
      },
      "source": [
        "from keras_facenet import FaceNet\n",
        "\n",
        "embedder = FaceNet()\n"
      ],
      "execution_count": null,
      "outputs": []
    },
    {
      "cell_type": "markdown",
      "metadata": {
        "id": "Y91XAdueFc2w"
      },
      "source": [
        "Generate embeddings for stored images"
      ]
    },
    {
      "cell_type": "code",
      "metadata": {
        "id": "IB-juzu41_Kn"
      },
      "source": [
        "embeddings=[]\n",
        "new_labels=[]\n",
        "count=0\n",
        "fail=0\n",
        "for i in range(len(arr)):\n",
        "  try:\n",
        "    detections = embedder.extract(arr[i], threshold=0.95)\n",
        "    embeddings.append(detections[0]['embedding'])\n",
        "    new_labels.append(labels[i])\n",
        "    print(count)\n",
        "    count+=1\n",
        "  except:\n",
        "    fail+=1\n",
        "print(fail)\n",
        "print(count)"
      ],
      "execution_count": null,
      "outputs": []
    },
    {
      "cell_type": "markdown",
      "metadata": {
        "id": "pp8OL0hmFgN6"
      },
      "source": [
        "Label Encoding"
      ]
    },
    {
      "cell_type": "code",
      "metadata": {
        "id": "Ir5S6cMC3AM1"
      },
      "source": [
        "actor_to_number={}\n",
        "number=0\n",
        "for i in new_labels:\n",
        "  if i not in actor_to_number.keys():\n",
        "    actor_to_number[i]=number\n",
        "    number+=1\n",
        "\n",
        "labels_to_number=[]\n",
        "for i in new_labels:\n",
        "  labels_to_number.append(actor_to_number[i])"
      ],
      "execution_count": null,
      "outputs": []
    },
    {
      "cell_type": "markdown",
      "metadata": {
        "id": "jY3XwAljFpej"
      },
      "source": [
        "Using SVC with One v/s rest as the classifier "
      ]
    },
    {
      "cell_type": "code",
      "metadata": {
        "id": "TFe8O73euKFP"
      },
      "source": [
        "from sklearn.svm import SVC\n",
        "from sklearn.preprocessing import Normalizer\n",
        "from keras.utils import np_utils\n",
        "from sklearn.model_selection import train_test_split\n",
        "in_encoder = Normalizer(norm='l2')\n",
        "Xtrain,Xtest,Ytrain,Ytest=train_test_split(np.array(embeddings),labels_to_number,test_size=0.3)\n",
        "s=SVC(decision_function_shape='ovr').fit(Xtrain,Ytrain)\n"
      ],
      "execution_count": null,
      "outputs": []
    },
    {
      "cell_type": "markdown",
      "metadata": {
        "id": "OO0TD6raFvDw"
      },
      "source": [
        "Test Accuracy"
      ]
    },
    {
      "cell_type": "code",
      "metadata": {
        "colab": {
          "base_uri": "https://localhost:8080/"
        },
        "id": "6fC43skru5sy",
        "outputId": "37b00de5-c70a-458e-f72e-f6da7b5e9da1"
      },
      "source": [
        "s.score(Xtest,Ytest)"
      ],
      "execution_count": null,
      "outputs": [
        {
          "output_type": "execute_result",
          "data": {
            "text/plain": [
              "0.9884649511978705"
            ]
          },
          "metadata": {
            "tags": []
          },
          "execution_count": 342
        }
      ]
    },
    {
      "cell_type": "code",
      "metadata": {
        "colab": {
          "base_uri": "https://localhost:8080/",
          "height": 336
        },
        "id": "08hMQy-wDWAE",
        "outputId": "a7b7acf4-b043-413f-c5cd-95caf140e5bb"
      },
      "source": [
        "sns.countplot(s.predict(Xtest))"
      ],
      "execution_count": null,
      "outputs": [
        {
          "output_type": "stream",
          "text": [
            "/usr/local/lib/python3.6/dist-packages/seaborn/_decorators.py:43: FutureWarning: Pass the following variable as a keyword arg: x. From version 0.12, the only valid positional argument will be `data`, and passing other arguments without an explicit keyword will result in an error or misinterpretation.\n",
            "  FutureWarning\n"
          ],
          "name": "stderr"
        },
        {
          "output_type": "execute_result",
          "data": {
            "text/plain": [
              "<matplotlib.axes._subplots.AxesSubplot at 0x7f331cc07198>"
            ]
          },
          "metadata": {
            "tags": []
          },
          "execution_count": 347
        },
        {
          "output_type": "display_data",
          "data": {
            "image/png": "[encoded data removed]",
            "text/plain": [
              "<Figure size 432x288 with 1 Axes>"
            ]
          },
          "metadata": {
            "tags": [],
            "needs_background": "light"
          }
        }
      ]
    },
    {
      "cell_type": "code",
      "metadata": {
        "colab": {
          "base_uri": "https://localhost:8080/",
          "height": 336
        },
        "id": "1zIycbqkDaUG",
        "outputId": "91ef9526-e047-40db-ab18-554756bcf0b0"
      },
      "source": [
        "sns.countplot(Ytest)"
      ],
      "execution_count": null,
      "outputs": [
        {
          "output_type": "stream",
          "text": [
            "/usr/local/lib/python3.6/dist-packages/seaborn/_decorators.py:43: FutureWarning: Pass the following variable as a keyword arg: x. From version 0.12, the only valid positional argument will be `data`, and passing other arguments without an explicit keyword will result in an error or misinterpretation.\n",
            "  FutureWarning\n"
          ],
          "name": "stderr"
        },
        {
          "output_type": "execute_result",
          "data": {
            "text/plain": [
              "<matplotlib.axes._subplots.AxesSubplot at 0x7f33156569e8>"
            ]
          },
          "metadata": {
            "tags": []
          },
          "execution_count": 348
        },
        {
          "output_type": "display_data",
          "data": {
            "image/png": "[encoded data removed]",
            "text/plain": [
              "<Figure size 432x288 with 1 Axes>"
            ]
          },
          "metadata": {
            "tags": [],
            "needs_background": "light"
          }
        }
      ]
    },
    {
      "cell_type": "markdown",
      "metadata": {
        "id": "uTgV9SEuFxPY"
      },
      "source": [
        "Save the model file"
      ]
    },
    {
      "cell_type": "code",
      "metadata": {
        "id": "LX3YPxF8DoaP"
      },
      "source": [
        "import pickle\n",
        "filename = 'facenet_svc.sav'\n",
        "pickle.dump(s, open(filename, 'wb'))"
      ],
      "execution_count": null,
      "outputs": []
    },
    {
      "cell_type": "markdown",
      "metadata": {
        "id": "PFkat1JWE9tC"
      },
      "source": [
        "Predictor"
      ]
    },
    {
      "cell_type": "code",
      "metadata": {
        "colab": {
          "base_uri": "https://localhost:8080/"
        },
        "id": "L1_nZPE2D-Ee",
        "outputId": "e6ddb0b0-2ee7-4878-fbab-5d5a0a8b21d7"
      },
      "source": [
        "model=pickle.load(open('facenet_svc.sav','rb'))\n",
        "model.score(Xtest,Ytest)"
      ],
      "execution_count": null,
      "outputs": [
        {
          "output_type": "execute_result",
          "data": {
            "text/plain": [
              "0.9884649511978705"
            ]
          },
          "metadata": {
            "tags": []
          },
          "execution_count": 353
        }
      ]
    },
    {
      "cell_type": "markdown",
      "metadata": {
        "id": "A41T2X16TTZz"
      },
      "source": [
        "# Violence Detection layer"
      ]
    },
    {
      "cell_type": "markdown",
      "metadata": {
        "id": "u2-qev6b13GM"
      },
      "source": [
        "Extract the dataset. Dataset link:https://www.kaggle.com/mohamedmustafa/real-life-violence-situations-dataset"
      ]
    },
    {
      "cell_type": "code",
      "metadata": {
        "id": "oKuBE4s-TRkJ"
      },
      "source": [
        "from zipfile import ZipFile\r\n",
        "filename='violence.zip'\r\n",
        "\r\n",
        "with ZipFile(filename,'r') as zip:\r\n",
        "  zip.extractall()"
      ],
      "execution_count": null,
      "outputs": []
    },
    {
      "cell_type": "markdown",
      "metadata": {
        "id": "hukZr7hu2CbV"
      },
      "source": [
        "Import all the relevant libraries"
      ]
    },
    {
      "cell_type": "code",
      "metadata": {
        "id": "UmnJxOm1c7uX"
      },
      "source": [
        "import numpy as np\r\n",
        "import pandas as pd\r\n",
        "import matplotlib.pyplot as plt\r\n",
        "import cv2 \r\n",
        "import math\r\n",
        "import os\r\n",
        "from sklearn.model_selection import train_test_split\r\n",
        "from sklearn.metrics import accuracy_score\r\n",
        "from xgboost import XGBClassifier\r\n"
      ],
      "execution_count": 2,
      "outputs": []
    },
    {
      "cell_type": "markdown",
      "metadata": {
        "id": "kx-wUsidA6iV"
      },
      "source": [
        "Extract frames from both the Violent and Non-Violent Videos"
      ]
    },
    {
      "cell_type": "code",
      "metadata": {
        "id": "7Wx1l9m0dawQ"
      },
      "source": [
        "X = []\r\n",
        "count = 0\r\n",
        "for i in range (1,1000):\r\n",
        "    videoFile = \"real life violence situations/Real Life Violence Dataset/Violence/V_%d.mp4\" % i\r\n",
        "    cap = cv2.VideoCapture(videoFile)   # capturing the video from the given path\r\n",
        "    frameRate = cap.get(5) #frame rate\r\n",
        "    #print(cap.isOpened())\r\n",
        "    while(cap.isOpened()):\r\n",
        "        #print(1)\r\n",
        "        frameId = cap.get(1) #current frame number\r\n",
        "        ret, frame = cap.read()\r\n",
        "        if (ret != True):\r\n",
        "            break\r\n",
        "        if (frameId % math.floor(frameRate) == 0):\r\n",
        "            X_temp = cv2.resize(frame, (64,64))\r\n",
        "            X.append(X_temp)\r\n",
        "    cap.release()"
      ],
      "execution_count": 4,
      "outputs": []
    },
    {
      "cell_type": "code",
      "metadata": {
        "colab": {
          "base_uri": "https://localhost:8080/"
        },
        "id": "eeOobjnIdb-D",
        "outputId": "a8bc02bf-e084-429a-9bf6-a16f23718d99"
      },
      "source": [
        "X = np.reshape(X, (5827, 64*64*3))\r\n",
        "print(np.shape(X))\r\n",
        "X = np.concatenate((X,np.ones((5827,1))), axis = 1)\r\n",
        "print(np.shape(X))\r\n"
      ],
      "execution_count": 5,
      "outputs": [
        {
          "output_type": "stream",
          "text": [
            "(5827, 12288)\n",
            "(5827, 12289)\n"
          ],
          "name": "stdout"
        }
      ]
    },
    {
      "cell_type": "code",
      "metadata": {
        "id": "ZzlPDgEddgh-"
      },
      "source": [
        "X2 = []\r\n",
        "count = 0\r\n",
        "for i in range (1,1000):\r\n",
        "    videoFile = \"real life violence situations/Real Life Violence Dataset/NonViolence/NV_%d.mp4\" % i\r\n",
        "    cap = cv2.VideoCapture(videoFile)   # capturing the video from the given path\r\n",
        "    frameRate = cap.get(5) #frame rate\r\n",
        "    #print(frameRate)\r\n",
        "    while(cap.isOpened()):\r\n",
        "        frameId = cap.get(1) #current frame number\r\n",
        "        ret, frame = cap.read()\r\n",
        "        if (ret != True):\r\n",
        "            break\r\n",
        "        if (frameId % math.floor(frameRate) == 0):\r\n",
        "            X_temp = cv2.resize(frame, (64,64))\r\n",
        "            X2.append(X_temp)\r\n",
        "    cap.release()"
      ],
      "execution_count": 6,
      "outputs": []
    },
    {
      "cell_type": "code",
      "metadata": {
        "colab": {
          "base_uri": "https://localhost:8080/"
        },
        "id": "pIMGFdEhgEh7",
        "outputId": "967e8d71-7998-4051-b44b-818afd37c621"
      },
      "source": [
        "np.shape(X)"
      ],
      "execution_count": 7,
      "outputs": [
        {
          "output_type": "execute_result",
          "data": {
            "text/plain": [
              "(5827, 12289)"
            ]
          },
          "metadata": {
            "tags": []
          },
          "execution_count": 7
        }
      ]
    },
    {
      "cell_type": "code",
      "metadata": {
        "colab": {
          "base_uri": "https://localhost:8080/"
        },
        "id": "BbkEuFxid04W",
        "outputId": "ea2a74cf-80e9-4c15-f3cb-cd7025e52fe1"
      },
      "source": [
        "X2 = np.reshape(X2, (4980, 64*64*3))\r\n",
        "print(np.shape(X2))\r\n",
        "X2 = np.concatenate((X2,np.zeros((4980,1))), axis = 1)\r\n",
        "print(np.shape(X2))\r\n",
        "X_true = np.concatenate((X,X2), axis = 0)\r\n",
        "print(np.shape(X_true))\r\n",
        "np.random.shuffle(X_true)\r\n",
        "X_true = X_true.astype(int)"
      ],
      "execution_count": 8,
      "outputs": [
        {
          "output_type": "stream",
          "text": [
            "(4980, 12288)\n",
            "(4980, 12289)\n",
            "(10807, 12289)\n"
          ],
          "name": "stdout"
        }
      ]
    },
    {
      "cell_type": "code",
      "metadata": {
        "id": "WaL_IPB6d5q7"
      },
      "source": [
        "seed = 78\r\n",
        "test_size = 0.33"
      ],
      "execution_count": 9,
      "outputs": []
    },
    {
      "cell_type": "code",
      "metadata": {
        "colab": {
          "base_uri": "https://localhost:8080/"
        },
        "id": "Ws29gX4Rd7aJ",
        "outputId": "36af9663-ebd7-46ea-cb9d-930a50acf623"
      },
      "source": [
        "y_true = X_true[:, -1]\r\n",
        "print(y_true)\r\n",
        "X_true = np.delete(X_true, -1, 1)"
      ],
      "execution_count": 10,
      "outputs": [
        {
          "output_type": "stream",
          "text": [
            "[0 1 0 ... 0 0 0]\n"
          ],
          "name": "stdout"
        }
      ]
    },
    {
      "cell_type": "markdown",
      "metadata": {
        "id": "nDnYdgInBApp"
      },
      "source": [
        "Split the Data"
      ]
    },
    {
      "cell_type": "code",
      "metadata": {
        "id": "4vIQ7bfhd7xv"
      },
      "source": [
        "X_train, X_test, y_train, y_test = train_test_split(X_true, y_true, test_size=test_size, random_state=seed)"
      ],
      "execution_count": 11,
      "outputs": []
    },
    {
      "cell_type": "markdown",
      "metadata": {
        "id": "rg90ieMpBCGI"
      },
      "source": [
        "Train a XGBClassifier over the data"
      ]
    },
    {
      "cell_type": "code",
      "metadata": {
        "colab": {
          "base_uri": "https://localhost:8080/"
        },
        "id": "fbi39-aBd-jV",
        "outputId": "cdbc7cad-906d-410d-83c2-772c8cf209ad"
      },
      "source": [
        "model = XGBClassifier()\r\n",
        "model.fit(X_train, y_train)"
      ],
      "execution_count": 12,
      "outputs": [
        {
          "output_type": "execute_result",
          "data": {
            "text/plain": [
              "XGBClassifier(base_score=0.5, booster='gbtree', colsample_bylevel=1,\n",
              "              colsample_bynode=1, colsample_bytree=1, gamma=0,\n",
              "              learning_rate=0.1, max_delta_step=0, max_depth=3,\n",
              "              min_child_weight=1, missing=None, n_estimators=100, n_jobs=1,\n",
              "              nthread=None, objective='binary:logistic', random_state=0,\n",
              "              reg_alpha=0, reg_lambda=1, scale_pos_weight=1, seed=None,\n",
              "              silent=None, subsample=1, verbosity=1)"
            ]
          },
          "metadata": {
            "tags": []
          },
          "execution_count": 12
        }
      ]
    },
    {
      "cell_type": "markdown",
      "metadata": {
        "id": "IUpDTei1BImx"
      },
      "source": [
        "Predictor"
      ]
    },
    {
      "cell_type": "code",
      "metadata": {
        "id": "JAicey8NeAFA"
      },
      "source": [
        "y_pred = model.predict(X_test)\r\n",
        "predictions = [round(value) for value in y_pred]\r\n",
        "y_pred = model.predict(X_test).round()\r\n"
      ],
      "execution_count": 13,
      "outputs": []
    },
    {
      "cell_type": "code",
      "metadata": {
        "colab": {
          "base_uri": "https://localhost:8080/"
        },
        "id": "wt04H8tieC9I",
        "outputId": "60d87ed0-be25-46be-f06a-d6636de08021"
      },
      "source": [
        "accuracy = accuracy_score(y_test, predictions)\r\n",
        "print(\"Accuracy: %.2f%%\" % (accuracy * 100.0))"
      ],
      "execution_count": 14,
      "outputs": [
        {
          "output_type": "stream",
          "text": [
            "Accuracy: 84.75%\n"
          ],
          "name": "stdout"
        }
      ]
    }
  ]
}